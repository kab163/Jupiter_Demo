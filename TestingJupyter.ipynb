{
 "cells": [
  {
   "cell_type": "markdown",
   "metadata": {},
   "source": [
    "# Sample Headline\n",
    "*Notes: this can be used to explain your code. It's a markdown cell*"
   ]
  },
  {
   "cell_type": "code",
   "execution_count": 1,
   "metadata": {},
   "outputs": [
    {
     "name": "stdout",
     "output_type": "stream",
     "text": [
      "\u001b[31mDEPRECATION: The default format will switch to columns in the future. You can use --format=(legacy|columns) (or define a format=(legacy|columns) in your pip.conf under the [list] section) to disable this warning.\u001b[0m\n",
      "altgraph (0.10.2)\n",
      "backports-abc (0.5)\n",
      "bdist-mpkg (0.5.0)\n",
      "bonjour-py (0.3)\n",
      "certifi (2018.1.18)\n",
      "macholib (1.5.1)\n",
      "matplotlib (1.3.1)\n",
      "modulegraph (0.10.4)\n",
      "numpy (1.8.0rc1)\n",
      "pip (9.0.1)\n",
      "py2app (0.7.3)\n",
      "pyobjc-core (2.5.1)\n",
      "pyobjc-framework-Accounts (2.5.1)\n",
      "pyobjc-framework-AddressBook (2.5.1)\n",
      "pyobjc-framework-AppleScriptKit (2.5.1)\n",
      "pyobjc-framework-AppleScriptObjC (2.5.1)\n",
      "pyobjc-framework-Automator (2.5.1)\n",
      "pyobjc-framework-CFNetwork (2.5.1)\n",
      "pyobjc-framework-Cocoa (2.5.1)\n",
      "pyobjc-framework-Collaboration (2.5.1)\n",
      "pyobjc-framework-CoreData (2.5.1)\n",
      "pyobjc-framework-CoreLocation (2.5.1)\n",
      "pyobjc-framework-CoreText (2.5.1)\n",
      "pyobjc-framework-DictionaryServices (2.5.1)\n",
      "pyobjc-framework-EventKit (2.5.1)\n",
      "pyobjc-framework-ExceptionHandling (2.5.1)\n",
      "pyobjc-framework-FSEvents (2.5.1)\n",
      "pyobjc-framework-InputMethodKit (2.5.1)\n",
      "pyobjc-framework-InstallerPlugins (2.5.1)\n",
      "pyobjc-framework-InstantMessage (2.5.1)\n",
      "pyobjc-framework-LatentSemanticMapping (2.5.1)\n",
      "pyobjc-framework-LaunchServices (2.5.1)\n",
      "pyobjc-framework-Message (2.5.1)\n",
      "pyobjc-framework-OpenDirectory (2.5.1)\n",
      "pyobjc-framework-PreferencePanes (2.5.1)\n",
      "pyobjc-framework-PubSub (2.5.1)\n",
      "pyobjc-framework-QTKit (2.5.1)\n",
      "pyobjc-framework-Quartz (2.5.1)\n",
      "pyobjc-framework-ScreenSaver (2.5.1)\n",
      "pyobjc-framework-ScriptingBridge (2.5.1)\n",
      "pyobjc-framework-SearchKit (2.5.1)\n",
      "pyobjc-framework-ServiceManagement (2.5.1)\n",
      "pyobjc-framework-Social (2.5.1)\n",
      "pyobjc-framework-SyncServices (2.5.1)\n",
      "pyobjc-framework-SystemConfiguration (2.5.1)\n",
      "pyobjc-framework-WebKit (2.5.1)\n",
      "pyOpenSSL (0.13.1)\n",
      "pyparsing (2.0.1)\n",
      "python-dateutil (1.5)\n",
      "pytz (2013.7)\n",
      "scipy (0.13.0b1)\n",
      "setuptools (18.5)\n",
      "six (1.4.1)\n",
      "wheel (0.30.0)\n",
      "xattr (0.6.4)\n",
      "zope.interface (4.1.1)\n"
     ]
    }
   ],
   "source": [
    "!pip list"
   ]
  },
  {
   "cell_type": "code",
   "execution_count": 2,
   "metadata": {},
   "outputs": [
    {
     "data": {
      "text/plain": [
       "'Hello World'"
      ]
     },
     "execution_count": 2,
     "metadata": {},
     "output_type": "execute_result"
    }
   ],
   "source": [
    "\"Hello World\""
   ]
  },
  {
   "cell_type": "code",
   "execution_count": 3,
   "metadata": {
    "collapsed": true
   },
   "outputs": [],
   "source": [
    "name = 'John'"
   ]
  },
  {
   "cell_type": "code",
   "execution_count": 4,
   "metadata": {},
   "outputs": [
    {
     "data": {
      "text/plain": [
       "'John'"
      ]
     },
     "execution_count": 4,
     "metadata": {},
     "output_type": "execute_result"
    }
   ],
   "source": [
    "name"
   ]
  },
  {
   "cell_type": "code",
   "execution_count": 5,
   "metadata": {
    "collapsed": true
   },
   "outputs": [],
   "source": [
    "hello = 'hello'"
   ]
  },
  {
   "cell_type": "code",
   "execution_count": 6,
   "metadata": {
    "collapsed": true
   },
   "outputs": [],
   "source": [
    "world = 'world'"
   ]
  },
  {
   "cell_type": "code",
   "execution_count": 7,
   "metadata": {},
   "outputs": [
    {
     "data": {
      "text/plain": [
       "'world'"
      ]
     },
     "execution_count": 7,
     "metadata": {},
     "output_type": "execute_result"
    }
   ],
   "source": [
    "hello\n",
    "world"
   ]
  },
  {
   "cell_type": "code",
   "execution_count": 8,
   "metadata": {},
   "outputs": [
    {
     "data": {
      "text/plain": [
       "'helloworld'"
      ]
     },
     "execution_count": 8,
     "metadata": {},
     "output_type": "execute_result"
    }
   ],
   "source": [
    "hello + world"
   ]
  },
  {
   "cell_type": "code",
   "execution_count": 9,
   "metadata": {},
   "outputs": [
    {
     "data": {
      "text/plain": [
       "'hello world'"
      ]
     },
     "execution_count": 9,
     "metadata": {},
     "output_type": "execute_result"
    }
   ],
   "source": [
    "hello + ' ' + world"
   ]
  },
  {
   "cell_type": "code",
   "execution_count": 10,
   "metadata": {},
   "outputs": [
    {
     "data": {
      "application/json": {
       "cell": {
        "!": "OSMagics",
        "HTML": "Other",
        "SVG": "Other",
        "bash": "Other",
        "capture": "ExecutionMagics",
        "debug": "ExecutionMagics",
        "file": "Other",
        "html": "DisplayMagics",
        "javascript": "DisplayMagics",
        "js": "DisplayMagics",
        "latex": "DisplayMagics",
        "perl": "Other",
        "prun": "ExecutionMagics",
        "pypy": "Other",
        "python": "Other",
        "python2": "Other",
        "python3": "Other",
        "ruby": "Other",
        "script": "ScriptMagics",
        "sh": "Other",
        "svg": "DisplayMagics",
        "sx": "OSMagics",
        "system": "OSMagics",
        "time": "ExecutionMagics",
        "timeit": "ExecutionMagics",
        "writefile": "OSMagics"
       },
       "line": {
        "alias": "OSMagics",
        "alias_magic": "BasicMagics",
        "autocall": "AutoMagics",
        "automagic": "AutoMagics",
        "autosave": "KernelMagics",
        "bookmark": "OSMagics",
        "cat": "Other",
        "cd": "OSMagics",
        "clear": "KernelMagics",
        "colors": "BasicMagics",
        "config": "ConfigMagics",
        "connect_info": "KernelMagics",
        "cp": "Other",
        "debug": "ExecutionMagics",
        "dhist": "OSMagics",
        "dirs": "OSMagics",
        "doctest_mode": "BasicMagics",
        "ed": "Other",
        "edit": "KernelMagics",
        "env": "OSMagics",
        "gui": "BasicMagics",
        "hist": "Other",
        "history": "HistoryMagics",
        "killbgscripts": "ScriptMagics",
        "ldir": "Other",
        "less": "KernelMagics",
        "lf": "Other",
        "lk": "Other",
        "ll": "Other",
        "load": "CodeMagics",
        "load_ext": "ExtensionMagics",
        "loadpy": "CodeMagics",
        "logoff": "LoggingMagics",
        "logon": "LoggingMagics",
        "logstart": "LoggingMagics",
        "logstate": "LoggingMagics",
        "logstop": "LoggingMagics",
        "ls": "Other",
        "lsmagic": "BasicMagics",
        "lx": "Other",
        "macro": "ExecutionMagics",
        "magic": "BasicMagics",
        "man": "KernelMagics",
        "matplotlib": "PylabMagics",
        "mkdir": "Other",
        "more": "KernelMagics",
        "mv": "Other",
        "notebook": "BasicMagics",
        "page": "BasicMagics",
        "pastebin": "CodeMagics",
        "pdb": "ExecutionMagics",
        "pdef": "NamespaceMagics",
        "pdoc": "NamespaceMagics",
        "pfile": "NamespaceMagics",
        "pinfo": "NamespaceMagics",
        "pinfo2": "NamespaceMagics",
        "popd": "OSMagics",
        "pprint": "BasicMagics",
        "precision": "BasicMagics",
        "profile": "BasicMagics",
        "prun": "ExecutionMagics",
        "psearch": "NamespaceMagics",
        "psource": "NamespaceMagics",
        "pushd": "OSMagics",
        "pwd": "OSMagics",
        "pycat": "OSMagics",
        "pylab": "PylabMagics",
        "qtconsole": "KernelMagics",
        "quickref": "BasicMagics",
        "recall": "HistoryMagics",
        "rehashx": "OSMagics",
        "reload_ext": "ExtensionMagics",
        "rep": "Other",
        "rerun": "HistoryMagics",
        "reset": "NamespaceMagics",
        "reset_selective": "NamespaceMagics",
        "rm": "Other",
        "rmdir": "Other",
        "run": "ExecutionMagics",
        "save": "CodeMagics",
        "sc": "OSMagics",
        "set_env": "OSMagics",
        "store": "StoreMagics",
        "sx": "OSMagics",
        "system": "OSMagics",
        "tb": "ExecutionMagics",
        "time": "ExecutionMagics",
        "timeit": "ExecutionMagics",
        "unalias": "OSMagics",
        "unload_ext": "ExtensionMagics",
        "who": "NamespaceMagics",
        "who_ls": "NamespaceMagics",
        "whos": "NamespaceMagics",
        "xdel": "NamespaceMagics",
        "xmode": "BasicMagics"
       }
      },
      "text/plain": [
       "Available line magics:\n",
       "%alias  %alias_magic  %autocall  %automagic  %autosave  %bookmark  %cat  %cd  %clear  %colors  %config  %connect_info  %cp  %debug  %dhist  %dirs  %doctest_mode  %ed  %edit  %env  %gui  %hist  %history  %killbgscripts  %ldir  %less  %lf  %lk  %ll  %load  %load_ext  %loadpy  %logoff  %logon  %logstart  %logstate  %logstop  %ls  %lsmagic  %lx  %macro  %magic  %man  %matplotlib  %mkdir  %more  %mv  %notebook  %page  %pastebin  %pdb  %pdef  %pdoc  %pfile  %pinfo  %pinfo2  %popd  %pprint  %precision  %profile  %prun  %psearch  %psource  %pushd  %pwd  %pycat  %pylab  %qtconsole  %quickref  %recall  %rehashx  %reload_ext  %rep  %rerun  %reset  %reset_selective  %rm  %rmdir  %run  %save  %sc  %set_env  %store  %sx  %system  %tb  %time  %timeit  %unalias  %unload_ext  %who  %who_ls  %whos  %xdel  %xmode\n",
       "\n",
       "Available cell magics:\n",
       "%%!  %%HTML  %%SVG  %%bash  %%capture  %%debug  %%file  %%html  %%javascript  %%js  %%latex  %%perl  %%prun  %%pypy  %%python  %%python2  %%python3  %%ruby  %%script  %%sh  %%svg  %%sx  %%system  %%time  %%timeit  %%writefile\n",
       "\n",
       "Automagic is ON, % prefix IS NOT needed for line magics."
      ]
     },
     "execution_count": 10,
     "metadata": {},
     "output_type": "execute_result"
    }
   ],
   "source": [
    "%lsmagic\n"
   ]
  },
  {
   "cell_type": "code",
   "execution_count": 11,
   "metadata": {},
   "outputs": [
    {
     "data": {
      "text/plain": [
       "u'/Users/kab163/Documents/Jupyter_Demo'"
      ]
     },
     "execution_count": 11,
     "metadata": {},
     "output_type": "execute_result"
    }
   ],
   "source": [
    "%pwd"
   ]
  },
  {
   "cell_type": "code",
   "execution_count": 12,
   "metadata": {},
   "outputs": [
    {
     "name": "stdout",
     "output_type": "stream",
     "text": [
      "TestingJupyter.ipynb\r\n"
     ]
    }
   ],
   "source": [
    "%ls"
   ]
  },
  {
   "cell_type": "code",
   "execution_count": 13,
   "metadata": {},
   "outputs": [
    {
     "name": "stdout",
     "output_type": "stream",
     "text": [
      "total 32\r\n",
      "drwxr-xr-x   4 kab163  staff    136 Feb 13 16:52 \u001b[34m.\u001b[m\u001b[m/\r\n",
      "drwx------@ 61 kab163  staff   2074 Feb 13 16:37 \u001b[34m..\u001b[m\u001b[m/\r\n",
      "drwxr-xr-x   3 kab163  staff    102 Feb 13 16:41 \u001b[34m.ipynb_checkpoints\u001b[m\u001b[m/\r\n",
      "-rw-r--r--   1 kab163  staff  12290 Feb 13 16:52 TestingJupyter.ipynb\r\n"
     ]
    }
   ],
   "source": [
    "%ls -la"
   ]
  },
  {
   "cell_type": "code",
   "execution_count": 16,
   "metadata": {},
   "outputs": [],
   "source": [
    "%matplotlib inline"
   ]
  },
  {
   "cell_type": "code",
   "execution_count": 15,
   "metadata": {},
   "outputs": [
    {
     "name": "stdout",
     "output_type": "stream",
     "text": [
      "Can use matplotlib to write a plot of the data\n"
     ]
    }
   ],
   "source": [
    "print \"Can use matplotlib to write a plot of the data\""
   ]
  },
  {
   "cell_type": "code",
   "execution_count": 18,
   "metadata": {},
   "outputs": [
    {
     "name": "stdout",
     "output_type": "stream",
     "text": [
      "10000 loops, best of 3: 125 µs per loop\n"
     ]
    }
   ],
   "source": [
    "%%timeit\n",
    "square_evens = [n*n for n in range(1000)]"
   ]
  },
  {
   "cell_type": "code",
   "execution_count": 19,
   "metadata": {},
   "outputs": [
    {
     "data": {
      "text/plain": [
       "'can use that function and other magic commands for some cool features'"
      ]
     },
     "execution_count": 19,
     "metadata": {},
     "output_type": "execute_result"
    }
   ],
   "source": [
    "\"can use that function and other magic commands for some cool features\""
   ]
  },
  {
   "cell_type": "code",
   "execution_count": 20,
   "metadata": {},
   "outputs": [
    {
     "data": {
      "text/html": [
       "<div>\n",
       "<style>\n",
       "    .dataframe thead tr:only-child th {\n",
       "        text-align: right;\n",
       "    }\n",
       "\n",
       "    .dataframe thead th {\n",
       "        text-align: left;\n",
       "    }\n",
       "\n",
       "    .dataframe tbody tr th {\n",
       "        vertical-align: top;\n",
       "    }\n",
       "</style>\n",
       "<table border=\"1\" class=\"dataframe\">\n",
       "  <thead>\n",
       "    <tr style=\"text-align: right;\">\n",
       "      <th></th>\n",
       "      <th>0</th>\n",
       "      <th>1</th>\n",
       "      <th>2</th>\n",
       "      <th>3</th>\n",
       "      <th>4</th>\n",
       "    </tr>\n",
       "  </thead>\n",
       "  <tbody>\n",
       "    <tr>\n",
       "      <th>0</th>\n",
       "      <td>-0.203953</td>\n",
       "      <td>-0.372678</td>\n",
       "      <td>-0.722944</td>\n",
       "      <td>0.036751</td>\n",
       "      <td>-0.896497</td>\n",
       "    </tr>\n",
       "    <tr>\n",
       "      <th>1</th>\n",
       "      <td>1.268895</td>\n",
       "      <td>1.028462</td>\n",
       "      <td>-1.036769</td>\n",
       "      <td>-1.935973</td>\n",
       "      <td>0.582433</td>\n",
       "    </tr>\n",
       "    <tr>\n",
       "      <th>2</th>\n",
       "      <td>1.565946</td>\n",
       "      <td>0.047569</td>\n",
       "      <td>-1.280752</td>\n",
       "      <td>-0.178194</td>\n",
       "      <td>-0.945092</td>\n",
       "    </tr>\n",
       "    <tr>\n",
       "      <th>3</th>\n",
       "      <td>0.246082</td>\n",
       "      <td>-1.724831</td>\n",
       "      <td>-1.983747</td>\n",
       "      <td>-1.459755</td>\n",
       "      <td>-0.914171</td>\n",
       "    </tr>\n",
       "    <tr>\n",
       "      <th>4</th>\n",
       "      <td>0.430809</td>\n",
       "      <td>0.328328</td>\n",
       "      <td>0.897477</td>\n",
       "      <td>0.256952</td>\n",
       "      <td>0.466174</td>\n",
       "    </tr>\n",
       "    <tr>\n",
       "      <th>5</th>\n",
       "      <td>-0.326935</td>\n",
       "      <td>0.560677</td>\n",
       "      <td>-0.034208</td>\n",
       "      <td>0.494448</td>\n",
       "      <td>0.490318</td>\n",
       "    </tr>\n",
       "    <tr>\n",
       "      <th>6</th>\n",
       "      <td>-0.962958</td>\n",
       "      <td>0.647706</td>\n",
       "      <td>-1.740536</td>\n",
       "      <td>-0.301178</td>\n",
       "      <td>1.531283</td>\n",
       "    </tr>\n",
       "    <tr>\n",
       "      <th>7</th>\n",
       "      <td>-0.720660</td>\n",
       "      <td>0.565313</td>\n",
       "      <td>-0.688675</td>\n",
       "      <td>-2.175702</td>\n",
       "      <td>0.835050</td>\n",
       "    </tr>\n",
       "    <tr>\n",
       "      <th>8</th>\n",
       "      <td>-0.028724</td>\n",
       "      <td>-1.890223</td>\n",
       "      <td>-0.888939</td>\n",
       "      <td>-0.632143</td>\n",
       "      <td>0.578108</td>\n",
       "    </tr>\n",
       "    <tr>\n",
       "      <th>9</th>\n",
       "      <td>-0.997631</td>\n",
       "      <td>-0.699253</td>\n",
       "      <td>-0.008137</td>\n",
       "      <td>0.051016</td>\n",
       "      <td>-0.502261</td>\n",
       "    </tr>\n",
       "  </tbody>\n",
       "</table>\n",
       "</div>"
      ],
      "text/plain": [
       "          0         1         2         3         4\n",
       "0 -0.203953 -0.372678 -0.722944  0.036751 -0.896497\n",
       "1  1.268895  1.028462 -1.036769 -1.935973  0.582433\n",
       "2  1.565946  0.047569 -1.280752 -0.178194 -0.945092\n",
       "3  0.246082 -1.724831 -1.983747 -1.459755 -0.914171\n",
       "4  0.430809  0.328328  0.897477  0.256952  0.466174\n",
       "5 -0.326935  0.560677 -0.034208  0.494448  0.490318\n",
       "6 -0.962958  0.647706 -1.740536 -0.301178  1.531283\n",
       "7 -0.720660  0.565313 -0.688675 -2.175702  0.835050\n",
       "8 -0.028724 -1.890223 -0.888939 -0.632143  0.578108\n",
       "9 -0.997631 -0.699253 -0.008137  0.051016 -0.502261"
      ]
     },
     "execution_count": 20,
     "metadata": {},
     "output_type": "execute_result"
    }
   ],
   "source": [
    "import pandas as pd\n",
    "import numpy as np\n",
    "\n",
    "df = pd.DataFrame(np.random.randn(10,5))\n",
    "df"
   ]
  },
  {
   "cell_type": "code",
   "execution_count": 21,
   "metadata": {},
   "outputs": [
    {
     "data": {
      "text/html": [
       "<div>\n",
       "<style>\n",
       "    .dataframe thead tr:only-child th {\n",
       "        text-align: right;\n",
       "    }\n",
       "\n",
       "    .dataframe thead th {\n",
       "        text-align: left;\n",
       "    }\n",
       "\n",
       "    .dataframe tbody tr th {\n",
       "        vertical-align: top;\n",
       "    }\n",
       "</style>\n",
       "<table border=\"1\" class=\"dataframe\">\n",
       "  <thead>\n",
       "    <tr style=\"text-align: right;\">\n",
       "      <th></th>\n",
       "      <th>0</th>\n",
       "      <th>1</th>\n",
       "      <th>2</th>\n",
       "      <th>3</th>\n",
       "      <th>4</th>\n",
       "    </tr>\n",
       "  </thead>\n",
       "  <tbody>\n",
       "    <tr>\n",
       "      <th>0</th>\n",
       "      <td>-0.287833</td>\n",
       "      <td>0.017013</td>\n",
       "      <td>1.959408</td>\n",
       "      <td>1.760497</td>\n",
       "      <td>0.139296</td>\n",
       "    </tr>\n",
       "    <tr>\n",
       "      <th>1</th>\n",
       "      <td>0.144563</td>\n",
       "      <td>0.271489</td>\n",
       "      <td>0.645289</td>\n",
       "      <td>-0.878550</td>\n",
       "      <td>0.834710</td>\n",
       "    </tr>\n",
       "    <tr>\n",
       "      <th>2</th>\n",
       "      <td>2.559843</td>\n",
       "      <td>-1.486722</td>\n",
       "      <td>-0.680270</td>\n",
       "      <td>-0.958500</td>\n",
       "      <td>-0.050199</td>\n",
       "    </tr>\n",
       "    <tr>\n",
       "      <th>3</th>\n",
       "      <td>0.082233</td>\n",
       "      <td>0.558988</td>\n",
       "      <td>0.370346</td>\n",
       "      <td>-1.084503</td>\n",
       "      <td>1.166081</td>\n",
       "    </tr>\n",
       "    <tr>\n",
       "      <th>4</th>\n",
       "      <td>-0.752259</td>\n",
       "      <td>1.205822</td>\n",
       "      <td>0.325281</td>\n",
       "      <td>-0.289016</td>\n",
       "      <td>0.043351</td>\n",
       "    </tr>\n",
       "  </tbody>\n",
       "</table>\n",
       "</div>"
      ],
      "text/plain": [
       "          0         1         2         3         4\n",
       "0 -0.287833  0.017013  1.959408  1.760497  0.139296\n",
       "1  0.144563  0.271489  0.645289 -0.878550  0.834710\n",
       "2  2.559843 -1.486722 -0.680270 -0.958500 -0.050199\n",
       "3  0.082233  0.558988  0.370346 -1.084503  1.166081\n",
       "4 -0.752259  1.205822  0.325281 -0.289016  0.043351"
      ]
     },
     "execution_count": 21,
     "metadata": {},
     "output_type": "execute_result"
    }
   ],
   "source": [
    "import pandas as pd\n",
    "import numpy as np\n",
    "\n",
    "df = pd.DataFrame(np.random.randn(10,5))\n",
    "df.head()"
   ]
  },
  {
   "cell_type": "code",
   "execution_count": 22,
   "metadata": {},
   "outputs": [
    {
     "data": {
      "text/plain": [
       "'can also export in several different formats -> file, download as, take your pick!'"
      ]
     },
     "execution_count": 22,
     "metadata": {},
     "output_type": "execute_result"
    }
   ],
   "source": [
    "\"can also export in several different formats -> file, download as, take your pick!\""
   ]
  },
  {
   "cell_type": "code",
   "execution_count": 23,
   "metadata": {},
   "outputs": [
    {
     "data": {
      "text/plain": [
       "'file:///Users/kab163/Downloads/TestingJupyter.html'"
      ]
     },
     "execution_count": 23,
     "metadata": {},
     "output_type": "execute_result"
    }
   ],
   "source": [
    "'file:///Users/kab163/Downloads/TestingJupyter.html'"
   ]
  },
  {
   "cell_type": "code",
   "execution_count": 27,
   "metadata": {},
   "outputs": [
    {
     "data": {
      "text/plain": [
       "'google search for jupyter gallery - ipython github page. lots of examples of notebooks to download and look at'"
      ]
     },
     "execution_count": 27,
     "metadata": {},
     "output_type": "execute_result"
    }
   ],
   "source": [
    "'google search for jupyter gallery - ipython github page. lots of examples of notebooks to download and look at'"
   ]
  },
  {
   "cell_type": "code",
   "execution_count": null,
   "metadata": {
    "collapsed": true
   },
   "outputs": [],
   "source": []
  }
 ],
 "metadata": {
  "kernelspec": {
   "display_name": "Python 2",
   "language": "python",
   "name": "python2"
  },
  "language_info": {
   "codemirror_mode": {
    "name": "ipython",
    "version": 2
   },
   "file_extension": ".py",
   "mimetype": "text/x-python",
   "name": "python",
   "nbconvert_exporter": "python",
   "pygments_lexer": "ipython2",
   "version": "2.7.14"
  }
 },
 "nbformat": 4,
 "nbformat_minor": 2
}
